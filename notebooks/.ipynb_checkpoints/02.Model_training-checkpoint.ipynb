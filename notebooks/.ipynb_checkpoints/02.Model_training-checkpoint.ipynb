{
 "cells": [
  {
   "cell_type": "markdown",
   "metadata": {},
   "source": [
    "<img src=\"../img/logo.png\" aling='left' width=200>\n"
   ]
  },
  {
   "cell_type": "markdown",
   "metadata": {},
   "source": [
    "## Glue Job Preprocessing with PySpark- Model training-Kueski Challenge"
   ]
  },
  {
   "cell_type": "markdown",
   "metadata": {},
   "source": [
    "AWS Glue supports an extension of the PySpark Python dialect for scripting extract, transform, and load (ETL) jobs. In this notebook we use this dialect for creating an ETL script to run a Glue job. "
   ]
  },
  {
   "cell_type": "markdown",
   "metadata": {},
   "source": [
    "<a id='contents' />\n",
    "\n",
    "## Table of contents\n",
    "\n",
    "1. [Loading libraries](#loading)\n",
    "2. [Data Preprocessing. Data Pipelines](#etl)\n",
    "3. [Model Training.](#s3)"
   ]
  },
  {
   "cell_type": "markdown",
   "metadata": {},
   "source": [
    "<a id='loading' />\n",
    "\n",
    "## 1. Loading libraries:\n",
    "[(back to top)](#contents)"
   ]
  },
  {
   "cell_type": "code",
   "execution_count": 1,
   "metadata": {},
   "outputs": [],
   "source": [
    "import pandas as pd\n",
    "import numpy as np\n",
    "import os\n",
    "from sklearn.compose import ColumnTransformer\n",
    "from imblearn.pipeline import Pipeline as imbpipeline\n",
    "from sklearn.impute import SimpleImputer\n",
    "\n",
    "import matplotlib.pyplot as plt\n",
    "%matplotlib inline\n",
    "\n",
    "from imblearn.over_sampling import SMOTE\n",
    "from sklearn.model_selection import train_test_split, GridSearchCV, StratifiedKFold\n",
    "from sklearn.metrics import (\n",
    "    accuracy_score, confusion_matrix, recall_score, \n",
    "    plot_confusion_matrix, precision_score, plot_roc_curve\n",
    ")\n",
    "\n",
    "from sklearn.ensemble import RandomForestClassifier"
   ]
  },
  {
   "cell_type": "code",
   "execution_count": 2,
   "metadata": {},
   "outputs": [],
   "source": [
    "# Read Data from offline feature store.\n",
    "df = pd.read_csv('../data/train_model.csv')\n",
    "# Subset of column to be used in the model.\n",
    "my_cols = ['age', 'years_on_the_job','nb_previous_loans','avg_amount_loans_previous','flag_own_car']"
   ]
  },
  {
   "cell_type": "code",
   "execution_count": 3,
   "metadata": {},
   "outputs": [
    {
     "data": {
      "text/plain": [
       "id                              0\n",
       "age                             0\n",
       "years_on_the_job             6135\n",
       "nb_previous_loans               0\n",
       "avg_amount_loans_previous     343\n",
       "flag_own_car                    0\n",
       "status                          0\n",
       "dtype: int64"
      ]
     },
     "execution_count": 3,
     "metadata": {},
     "output_type": "execute_result"
    }
   ],
   "source": [
    "# Nan distribution.\n",
    "df.isnull().sum()"
   ]
  },
  {
   "cell_type": "code",
   "execution_count": 4,
   "metadata": {},
   "outputs": [
    {
     "data": {
      "text/html": [
       "<div>\n",
       "<style scoped>\n",
       "    .dataframe tbody tr th:only-of-type {\n",
       "        vertical-align: middle;\n",
       "    }\n",
       "\n",
       "    .dataframe tbody tr th {\n",
       "        vertical-align: top;\n",
       "    }\n",
       "\n",
       "    .dataframe thead th {\n",
       "        text-align: right;\n",
       "    }\n",
       "</style>\n",
       "<table border=\"1\" class=\"dataframe\">\n",
       "  <thead>\n",
       "    <tr style=\"text-align: right;\">\n",
       "      <th></th>\n",
       "      <th>id</th>\n",
       "      <th>age</th>\n",
       "      <th>years_on_the_job</th>\n",
       "      <th>nb_previous_loans</th>\n",
       "      <th>avg_amount_loans_previous</th>\n",
       "      <th>flag_own_car</th>\n",
       "      <th>status</th>\n",
       "    </tr>\n",
       "  </thead>\n",
       "  <tbody>\n",
       "    <tr>\n",
       "      <th>39</th>\n",
       "      <td>5008852</td>\n",
       "      <td>56</td>\n",
       "      <td>12.0</td>\n",
       "      <td>0.0</td>\n",
       "      <td>NaN</td>\n",
       "      <td>1</td>\n",
       "      <td>0</td>\n",
       "    </tr>\n",
       "    <tr>\n",
       "      <th>120</th>\n",
       "      <td>5008939</td>\n",
       "      <td>42</td>\n",
       "      <td>9.0</td>\n",
       "      <td>0.0</td>\n",
       "      <td>NaN</td>\n",
       "      <td>0</td>\n",
       "      <td>0</td>\n",
       "    </tr>\n",
       "    <tr>\n",
       "      <th>130</th>\n",
       "      <td>5008949</td>\n",
       "      <td>42</td>\n",
       "      <td>4.0</td>\n",
       "      <td>0.0</td>\n",
       "      <td>NaN</td>\n",
       "      <td>0</td>\n",
       "      <td>0</td>\n",
       "    </tr>\n",
       "    <tr>\n",
       "      <th>213</th>\n",
       "      <td>5009058</td>\n",
       "      <td>20</td>\n",
       "      <td>2.0</td>\n",
       "      <td>0.0</td>\n",
       "      <td>NaN</td>\n",
       "      <td>1</td>\n",
       "      <td>0</td>\n",
       "    </tr>\n",
       "    <tr>\n",
       "      <th>1070</th>\n",
       "      <td>5010174</td>\n",
       "      <td>24</td>\n",
       "      <td>2.0</td>\n",
       "      <td>0.0</td>\n",
       "      <td>NaN</td>\n",
       "      <td>0</td>\n",
       "      <td>0</td>\n",
       "    </tr>\n",
       "    <tr>\n",
       "      <th>...</th>\n",
       "      <td>...</td>\n",
       "      <td>...</td>\n",
       "      <td>...</td>\n",
       "      <td>...</td>\n",
       "      <td>...</td>\n",
       "      <td>...</td>\n",
       "      <td>...</td>\n",
       "    </tr>\n",
       "    <tr>\n",
       "      <th>35968</th>\n",
       "      <td>5149672</td>\n",
       "      <td>45</td>\n",
       "      <td>6.0</td>\n",
       "      <td>0.0</td>\n",
       "      <td>NaN</td>\n",
       "      <td>0</td>\n",
       "      <td>0</td>\n",
       "    </tr>\n",
       "    <tr>\n",
       "      <th>36009</th>\n",
       "      <td>5149722</td>\n",
       "      <td>29</td>\n",
       "      <td>0.0</td>\n",
       "      <td>0.0</td>\n",
       "      <td>NaN</td>\n",
       "      <td>0</td>\n",
       "      <td>0</td>\n",
       "    </tr>\n",
       "    <tr>\n",
       "      <th>36115</th>\n",
       "      <td>5149854</td>\n",
       "      <td>25</td>\n",
       "      <td>0.0</td>\n",
       "      <td>0.0</td>\n",
       "      <td>NaN</td>\n",
       "      <td>0</td>\n",
       "      <td>0</td>\n",
       "    </tr>\n",
       "    <tr>\n",
       "      <th>36353</th>\n",
       "      <td>5150237</td>\n",
       "      <td>52</td>\n",
       "      <td>0.0</td>\n",
       "      <td>0.0</td>\n",
       "      <td>NaN</td>\n",
       "      <td>1</td>\n",
       "      <td>0</td>\n",
       "    </tr>\n",
       "    <tr>\n",
       "      <th>36385</th>\n",
       "      <td>5150334</td>\n",
       "      <td>33</td>\n",
       "      <td>1.0</td>\n",
       "      <td>0.0</td>\n",
       "      <td>NaN</td>\n",
       "      <td>0</td>\n",
       "      <td>0</td>\n",
       "    </tr>\n",
       "  </tbody>\n",
       "</table>\n",
       "<p>343 rows × 7 columns</p>\n",
       "</div>"
      ],
      "text/plain": [
       "            id  age  years_on_the_job  nb_previous_loans  \\\n",
       "39     5008852   56              12.0                0.0   \n",
       "120    5008939   42               9.0                0.0   \n",
       "130    5008949   42               4.0                0.0   \n",
       "213    5009058   20               2.0                0.0   \n",
       "1070   5010174   24               2.0                0.0   \n",
       "...        ...  ...               ...                ...   \n",
       "35968  5149672   45               6.0                0.0   \n",
       "36009  5149722   29               0.0                0.0   \n",
       "36115  5149854   25               0.0                0.0   \n",
       "36353  5150237   52               0.0                0.0   \n",
       "36385  5150334   33               1.0                0.0   \n",
       "\n",
       "       avg_amount_loans_previous  flag_own_car  status  \n",
       "39                           NaN             1       0  \n",
       "120                          NaN             0       0  \n",
       "130                          NaN             0       0  \n",
       "213                          NaN             1       0  \n",
       "1070                         NaN             0       0  \n",
       "...                          ...           ...     ...  \n",
       "35968                        NaN             0       0  \n",
       "36009                        NaN             0       0  \n",
       "36115                        NaN             0       0  \n",
       "36353                        NaN             1       0  \n",
       "36385                        NaN             0       0  \n",
       "\n",
       "[343 rows x 7 columns]"
      ]
     },
     "execution_count": 4,
     "metadata": {},
     "output_type": "execute_result"
    }
   ],
   "source": [
    "df[df.avg_amount_loans_previous.isnull()]"
   ]
  },
  {
   "cell_type": "markdown",
   "metadata": {},
   "source": [
    "<a id='etl' />\n",
    "\n",
    "## Data Preprocessing. Data Pipelines.\n",
    "[(back to top)](#contents)\n"
   ]
  },
  {
   "cell_type": "code",
   "execution_count": 10,
   "metadata": {},
   "outputs": [],
   "source": [
    "# train test split\n",
    "Y = df['status'].astype('int')\n",
    "X = df[my_cols]\n",
    "X_train, X_test, y_train, y_test = train_test_split(X,Y, \n",
    "                                                    stratify=Y, test_size=0.3,\n",
    "                                                    random_state = 12345)"
   ]
  },
  {
   "cell_type": "code",
   "execution_count": 11,
   "metadata": {},
   "outputs": [],
   "source": [
    "# Pipeline\n",
    "# Using Synthetic Minority Over-Sampling Technique(SMOTE) to overcome sample imbalance problem.\n",
    "pipeline = imbpipeline(steps = [\n",
    "    [\"selector\", ColumnTransformer([(\"selector\", \"passthrough\", my_cols)], remainder=\"drop\")],\n",
    "    [\"imputer\", SimpleImputer(missing_values=np.nan, strategy='constant', fill_value=0 )],\n",
    "    ['smote', SMOTE(random_state=11)],\n",
    "    ['model', RandomForestClassifier()]])"
   ]
  },
  {
   "cell_type": "markdown",
   "metadata": {},
   "source": [
    "<a id='s3' />\n",
    "\n",
    "## Model Training.\n",
    "[(back to top)](#contents)"
   ]
  },
  {
   "cell_type": "code",
   "execution_count": 12,
   "metadata": {},
   "outputs": [],
   "source": [
    "# Model  training.\n",
    "model = pipeline.fit(X_train,y_train)"
   ]
  },
  {
   "cell_type": "code",
   "execution_count": 13,
   "metadata": {},
   "outputs": [
    {
     "data": {
      "text/html": [
       "<div>\n",
       "<style scoped>\n",
       "    .dataframe tbody tr th:only-of-type {\n",
       "        vertical-align: middle;\n",
       "    }\n",
       "\n",
       "    .dataframe tbody tr th {\n",
       "        vertical-align: top;\n",
       "    }\n",
       "\n",
       "    .dataframe thead th {\n",
       "        text-align: right;\n",
       "    }\n",
       "</style>\n",
       "<table border=\"1\" class=\"dataframe\">\n",
       "  <thead>\n",
       "    <tr style=\"text-align: right;\">\n",
       "      <th></th>\n",
       "      <th>age</th>\n",
       "      <th>years_on_the_job</th>\n",
       "      <th>nb_previous_loans</th>\n",
       "      <th>avg_amount_loans_previous</th>\n",
       "      <th>flag_own_car</th>\n",
       "    </tr>\n",
       "  </thead>\n",
       "  <tbody>\n",
       "    <tr>\n",
       "      <th>0</th>\n",
       "      <td>43.0</td>\n",
       "      <td>NaN</td>\n",
       "      <td>4.0</td>\n",
       "      <td>NaN</td>\n",
       "      <td>0</td>\n",
       "    </tr>\n",
       "  </tbody>\n",
       "</table>\n",
       "</div>"
      ],
      "text/plain": [
       "    age  years_on_the_job  nb_previous_loans  avg_amount_loans_previous  \\\n",
       "0  43.0               NaN                4.0                        NaN   \n",
       "\n",
       "   flag_own_car  \n",
       "0             0  "
      ]
     },
     "metadata": {},
     "output_type": "display_data"
    }
   ],
   "source": [
    "# Hago un ejemplo a ver como me va.\n",
    "example = pd.DataFrame({'age':[43.0],\n",
    " 'years_on_the_job':[np.nan],\n",
    " 'nb_previous_loans':[4.0],\n",
    " 'avg_amount_loans_previous':[np.nan],\n",
    " 'flag_own_car':[0]})\n",
    "display(example)\n"
   ]
  },
  {
   "cell_type": "code",
   "execution_count": 14,
   "metadata": {},
   "outputs": [
    {
     "data": {
      "text/plain": [
       "array([0])"
      ]
     },
     "execution_count": 14,
     "metadata": {},
     "output_type": "execute_result"
    }
   ],
   "source": [
    "model.predict(example)"
   ]
  },
  {
   "cell_type": "code",
   "execution_count": 15,
   "metadata": {},
   "outputs": [
    {
     "data": {
      "text/plain": [
       "['model_risk.joblib']"
      ]
     },
     "execution_count": 15,
     "metadata": {},
     "output_type": "execute_result"
    }
   ],
   "source": [
    "# Model persistance\n",
    "\n",
    "from joblib import dump, load\n",
    "# dump model\n",
    "dump(model, 'model_risk.joblib') "
   ]
  },
  {
   "cell_type": "markdown",
   "metadata": {},
   "source": [
    "# Notes.\n",
    "1) Imputing by zero is not correct since you are changing the data distribution for example  in the case of age. A capping strategy could be better (discussed on README.md file)\n",
    "\n",
    "2) Imputing by zero in the case of the number of years worked is not correct either.\n",
    "\n",
    "3) using SMOTE before the train test split is not correct either. Since smote is a technique to balance dataset for the training stage, the model learns from more instances of the minority class. Be carefully with metrics distorsions.\n",
    "\n",
    "4) No cross-validation and search of hyperpamenters is done\n",
    "\n",
    "5) Random forest in credit score is not auditable as a model with explainability.\n",
    "\n",
    "Also in the implementation of notebook did not have the case of negative years."
   ]
  },
  {
   "cell_type": "code",
   "execution_count": null,
   "metadata": {},
   "outputs": [],
   "source": []
  }
 ],
 "metadata": {
  "kernelspec": {
   "display_name": "Python 3",
   "language": "python",
   "name": "python3"
  },
  "language_info": {
   "codemirror_mode": {
    "name": "ipython",
    "version": 3
   },
   "file_extension": ".py",
   "mimetype": "text/x-python",
   "name": "python",
   "nbconvert_exporter": "python",
   "pygments_lexer": "ipython3",
   "version": "3.8.5"
  }
 },
 "nbformat": 4,
 "nbformat_minor": 5
}
